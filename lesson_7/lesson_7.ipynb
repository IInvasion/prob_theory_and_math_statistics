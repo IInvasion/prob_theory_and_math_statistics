{
 "cells": [
  {
   "cell_type": "markdown",
   "metadata": {},
   "source": [
    "* 1) Даны значения величины заработной платы заемщиков банка (zp) и значения их поведенческого кредитного скоринга (ks):<br>zp = [35, 45, 190, 200, 40, 70, 54, 150, 120, 110],<br>ks = [401, 574, 874, 919, 459, 739, 653, 902, 746, 832].<br>Используя математические операции, посчитать коэффициенты линейной регрессии, приняв за X заработную плату (то есть, zp - признак), а за y - значения скорингового балла (то есть, ks - целевая переменная).<br>Произвести расчет как с использованием intercept, так и без."
   ]
  },
  {
   "cell_type": "code",
   "execution_count": 1,
   "metadata": {},
   "outputs": [],
   "source": [
    "import numpy as np"
   ]
  },
  {
   "cell_type": "code",
   "execution_count": 2,
   "metadata": {},
   "outputs": [],
   "source": [
    "zp = np.array([35, 45, 190, 200, 40, 70, 54, 150, 120, 110])\n",
    "ks = np.array([401, 574, 874, 919, 459, 739, 653, 902, 746, 832])"
   ]
  },
  {
   "cell_type": "code",
   "execution_count": 3,
   "metadata": {},
   "outputs": [
    {
     "data": {
      "text/plain": [
       "2.620538882402765"
      ]
     },
     "execution_count": 3,
     "metadata": {},
     "output_type": "execute_result"
    }
   ],
   "source": [
    "b = (np.mean(zp * ks) - np.mean(zp) * np.mean(ks)) / (np.mean(zp ** 2) - np.mean(zp) ** 2)\n",
    "b"
   ]
  },
  {
   "cell_type": "code",
   "execution_count": 4,
   "metadata": {},
   "outputs": [
    {
     "data": {
      "text/plain": [
       "444.1773573243596"
      ]
     },
     "execution_count": 4,
     "metadata": {},
     "output_type": "execute_result"
    }
   ],
   "source": [
    "a = np.mean(ks) - b * np.mean(zp)\n",
    "a"
   ]
  },
  {
   "cell_type": "code",
   "execution_count": 5,
   "metadata": {},
   "outputs": [
    {
     "data": {
      "text/plain": [
       "array([[ 35],\n",
       "       [ 45],\n",
       "       [190],\n",
       "       [200],\n",
       "       [ 40],\n",
       "       [ 70],\n",
       "       [ 54],\n",
       "       [150],\n",
       "       [120],\n",
       "       [110]])"
      ]
     },
     "execution_count": 5,
     "metadata": {},
     "output_type": "execute_result"
    }
   ],
   "source": [
    "X = zp\n",
    "X = X.reshape(10, 1)\n",
    "X"
   ]
  },
  {
   "cell_type": "code",
   "execution_count": 6,
   "metadata": {},
   "outputs": [
    {
     "data": {
      "text/plain": [
       "array([[401],\n",
       "       [574],\n",
       "       [874],\n",
       "       [919],\n",
       "       [459],\n",
       "       [739],\n",
       "       [653],\n",
       "       [902],\n",
       "       [746],\n",
       "       [832]])"
      ]
     },
     "execution_count": 6,
     "metadata": {},
     "output_type": "execute_result"
    }
   ],
   "source": [
    "y = ks\n",
    "y = y.reshape(10, 1)\n",
    "y"
   ]
  },
  {
   "cell_type": "code",
   "execution_count": 7,
   "metadata": {},
   "outputs": [
    {
     "data": {
      "text/plain": [
       "array([[5.88982042]])"
      ]
     },
     "execution_count": 7,
     "metadata": {},
     "output_type": "execute_result"
    }
   ],
   "source": [
    "B = np.dot(np.linalg.inv(np.dot(X.T, X)), X.T @ y)\n",
    "B"
   ]
  },
  {
   "cell_type": "markdown",
   "metadata": {},
   "source": [
    "* 2) Посчитать коэффициент линейной регрессии при заработной плате (zp), используя градиентный спуск (без intercept)."
   ]
  },
  {
   "cell_type": "code",
   "execution_count": 8,
   "metadata": {},
   "outputs": [],
   "source": [
    "X = np.array([35, 45, 190, 200, 40, 70, 54, 150, 120, 110])\n",
    "y = np.array([401, 574, 874, 919, 459, 739, 653, 902, 746, 832])"
   ]
  },
  {
   "cell_type": "code",
   "execution_count": 9,
   "metadata": {},
   "outputs": [],
   "source": [
    "def mse_(B1, y=y, X=X, n=10):\n",
    "    \"\"\"Mean squared error.\"\"\"\n",
    "    \n",
    "    return np.sum((B1 * X - y) ** 2) / n"
   ]
  },
  {
   "cell_type": "code",
   "execution_count": 10,
   "metadata": {},
   "outputs": [],
   "source": [
    "alpha = 1e-6"
   ]
  },
  {
   "cell_type": "code",
   "execution_count": 11,
   "metadata": {},
   "outputs": [],
   "source": [
    "B1 = 0.1\n",
    "n = 10"
   ]
  },
  {
   "cell_type": "code",
   "execution_count": 12,
   "metadata": {},
   "outputs": [
    {
     "name": "stdout",
     "output_type": "stream",
     "text": [
      "Iteration 0, B1=0.25952808, mse=493237.7212546963\n",
      "Iteration 10, B1=1.6319792141937546, mse=306275.7568040035\n",
      "Iteration 20, B1=2.6698789606516935, mse=199352.96411174876\n",
      "Iteration 30, B1=3.4547782236263824, mse=138204.25062502263\n",
      "Iteration 40, B1=4.04834889855975, mse=103233.54824312925\n",
      "Iteration 50, B1=4.497229618367758, mse=83233.94472982832\n",
      "Iteration 60, B1=4.836690291080364, mse=71796.25222021657\n",
      "Iteration 70, B1=5.093403362579137, mse=65255.0820486468\n",
      "Iteration 80, B1=5.287539550879594, mse=61514.21323463749\n",
      "Iteration 90, B1=5.434352720103083, mse=59374.825462025976\n",
      "Iteration 100, B1=5.54537842245223, mse=58151.31823171113\n",
      "Iteration 110, B1=5.629340281237233, mse=57451.59938606899\n",
      "Iteration 120, B1=5.692835432193034, mse=57051.433003054815\n",
      "Iteration 130, B1=5.740852880272922, mse=56822.57946410561\n",
      "Iteration 140, B1=5.777165500770666, mse=56691.69904907657\n",
      "Iteration 150, B1=5.804626485478126, mse=56616.849068093856\n",
      "Iteration 160, B1=5.825393526544474, mse=56574.04266614384\n",
      "Iteration 170, B1=5.8410983528369655, mse=56549.561857680776\n",
      "Iteration 180, B1=5.852974939784972, mse=56535.56138215128\n",
      "Iteration 190, B1=5.861956466540286, mse=56527.55456671675\n",
      "Iteration 200, B1=5.868748638669329, mse=56522.97550129376\n",
      "Iteration 210, B1=5.873885137561711, mse=56520.35675226433\n",
      "Iteration 220, B1=5.877769553381888, mse=56518.85910026643\n",
      "Iteration 230, B1=5.880707096362074, mse=56518.00259913497\n",
      "Iteration 240, B1=5.882928578088004, mse=56517.512769595625\n",
      "Iteration 250, B1=5.884608547059329, mse=56517.232638059555\n",
      "Iteration 260, B1=5.885879003490128, mse=56517.072431964974\n",
      "Iteration 270, B1=5.8868397709626885, mse=56516.98081074626\n",
      "Iteration 280, B1=5.887566339866551, mse=56516.928412941146\n",
      "Iteration 290, B1=5.888115798905433, mse=56516.89844684794\n"
     ]
    }
   ],
   "source": [
    "for i in range(300):\n",
    "    B1 -= alpha * (2 / n) * np.sum((B1 * X - y) * X)\n",
    "    if i % 10 == 0:\n",
    "        print(f'Iteration {i}, B1={B1}, mse={mse_(B1)}')"
   ]
  },
  {
   "cell_type": "markdown",
   "metadata": {},
   "source": [
    "* 3) Произвести вычисления как в пункте 2, но с вычислением intercept. Учесть, что изменение коэффициентов должно производиться на каждом шаге одновременно (то есть изменение одного коэффициента не должно влиять на изменение другого во время одной итерации)."
   ]
  },
  {
   "cell_type": "code",
   "execution_count": 13,
   "metadata": {},
   "outputs": [],
   "source": [
    "X = np.array([35, 45, 190, 200, 40, 70, 54, 150, 120, 110])\n",
    "y = np.array([401, 574, 874, 919, 459, 739, 653, 902, 746, 832])"
   ]
  },
  {
   "cell_type": "code",
   "execution_count": 14,
   "metadata": {},
   "outputs": [],
   "source": [
    "def mse_(B1, B0, y=y, X=X, n=10):\n",
    "    \"\"\"Mean squared error.\"\"\"\n",
    "    \n",
    "    return np.sum((B1 * X + B0 - y) ** 2) / n"
   ]
  },
  {
   "cell_type": "code",
   "execution_count": 15,
   "metadata": {},
   "outputs": [],
   "source": [
    "B1 = 0.1\n",
    "B0 = 0.1"
   ]
  },
  {
   "cell_type": "code",
   "execution_count": 16,
   "metadata": {},
   "outputs": [
    {
     "name": "stdout",
     "output_type": "stream",
     "text": [
      "Iteration 0, B0=0.10139932, B1=0.2595078, mse=493102.2473380378\n",
      "Iteration 500000, B0=99.62326925415903, B1=5.156609306712451, mse=36584.8831651681\n",
      "Iteration 1000000, B0=176.81634536031407, B1=4.588434137551724, mse=24602.866672921762\n",
      "Iteration 1500000, B0=236.71526880642702, B1=4.147551578153019, mse=17388.28338336958\n",
      "Iteration 2000000, B0=283.1945803067062, B1=3.8054432958269095, mse=13044.25564183225\n",
      "Iteration 2500000, B0=319.2607777147802, B1=3.5399801371216335, mse=10428.639983674579\n",
      "Iteration 3000000, B0=347.2467902759279, B1=3.33399071134467, mse=8853.731700793858\n",
      "Iteration 3500000, B0=368.96288333142047, B1=3.1741506652199787, mse=7905.451668998496\n",
      "Iteration 4000000, B0=385.8137546931221, B1=3.0501208017996615, mse=7334.47555027671\n",
      "Iteration 4500000, B0=398.88939702545025, B1=2.9538782931601695, mse=6990.680766858188\n",
      "Iteration 5000000, B0=409.03560363595057, B1=2.8791977266112596, mse=6783.6758690522665\n",
      "Iteration 5500000, B0=416.9086783168232, B1=2.821248416073767, mse=6659.034572027686\n",
      "Iteration 6000000, B0=423.01788812398996, B1=2.77628193085621, mse=6583.98585053078\n",
      "Iteration 6500000, B0=427.7584051368385, B1=2.741389629738677, mse=6538.79769273079\n",
      "Iteration 7000000, B0=431.4368680246047, B1=2.714314516542853, mse=6511.589106566492\n",
      "Iteration 7500000, B0=434.2912168603858, B1=2.693305247131392, mse=6495.20633733891\n",
      "Iteration 8000000, B0=436.50608419081027, B1=2.6770028443303686, mse=6485.341983272794\n",
      "Iteration 8500000, B0=438.22473792713697, B1=2.664352792970539, mse=6479.4024818496655\n",
      "Iteration 9000000, B0=439.55834857949003, B1=2.6545368289460813, mse=6475.826203370709\n",
      "Iteration 9500000, B0=440.5931802820551, B1=2.646920010089825, mse=6473.672863073605\n",
      "Iteration 10000000, B0=441.3961707581016, B1=2.6410096451636385, mse=6472.376298932347\n",
      "Iteration 10500000, B0=442.01926116308556, B1=2.6364234242988647, mse=6471.595614813491\n",
      "Iteration 11000000, B0=442.50275587983623, B1=2.632864689418287, mse=6471.125551147503\n",
      "Iteration 11500000, B0=442.87792959341743, B1=2.6301032450125015, mse=6470.84251753026\n",
      "Iteration 12000000, B0=443.16905028305433, B1=2.627960468024923, mse=6470.6720980013915\n",
      "Iteration 12500000, B0=443.39494898770977, B1=2.6262977536831054, mse=6470.569485399753\n",
      "Iteration 13000000, B0=443.57023788534633, B1=2.625007549896827, mse=6470.507700543967\n",
      "Iteration 13500000, B0=443.706255476437, B1=2.624006400289572, mse=6470.470498793463\n",
      "Iteration 14000000, B0=443.81180001084215, B1=2.6232295458524257, mse=6470.448098963868\n",
      "Iteration 14500000, B0=443.8936985994737, B1=2.6226267360306523, mse=6470.434611631719\n",
      "Iteration 15000000, B0=443.9572488236407, B1=2.6221589782836165, mse=6470.426490671347\n",
      "Iteration 15500000, B0=444.0065614071727, B1=2.6217960158664737, mse=6470.421600897987\n",
      "Iteration 16000000, B0=444.044826117088, B1=2.6215143706836983, mse=6470.41865667928\n",
      "Iteration 16500000, B0=444.07451809268764, B1=2.6212958246157068, mse=6470.416883913303\n",
      "Iteration 17000000, B0=444.09755794887894, B1=2.621126241087634, mse=6470.415816499674\n",
      "Iteration 17500000, B0=444.1154360106243, B1=2.620994650648843, mse=6470.415173791109\n",
      "Iteration 18000000, B0=444.12930871407394, B1=2.6208925414179793, mse=6470.41478680496\n",
      "Iteration 18500000, B0=444.1400734101179, B1=2.6208133084957494, mse=6470.414553793779\n",
      "Iteration 19000000, B0=444.14842640934705, B1=2.62075182672835, mse=6470.4144134936405\n",
      "Iteration 19500000, B0=444.15490802254436, B1=2.620704119189532, mse=6470.414329016459\n"
     ]
    }
   ],
   "source": [
    "for i in range(20000000):\n",
    "    y_pred = B0 + B1 * X\n",
    "    B0 -= alpha * (2 / n) * np.sum(y_pred - y)\n",
    "    B1 -= alpha * (2 / n) * np.sum((y_pred - y) * X)\n",
    "    if i % 500000 == 0:\n",
    "        print(f'Iteration {i}, B0={B0}, B1={B1}, mse={mse_(B1, B0)}')"
   ]
  },
  {
   "cell_type": "code",
   "execution_count": null,
   "metadata": {},
   "outputs": [],
   "source": []
  }
 ],
 "metadata": {
  "kernelspec": {
   "display_name": "Python 3",
   "language": "python",
   "name": "python3"
  },
  "language_info": {
   "codemirror_mode": {
    "name": "ipython",
    "version": 3
   },
   "file_extension": ".py",
   "mimetype": "text/x-python",
   "name": "python",
   "nbconvert_exporter": "python",
   "pygments_lexer": "ipython3",
   "version": "3.8.5"
  }
 },
 "nbformat": 4,
 "nbformat_minor": 4
}
